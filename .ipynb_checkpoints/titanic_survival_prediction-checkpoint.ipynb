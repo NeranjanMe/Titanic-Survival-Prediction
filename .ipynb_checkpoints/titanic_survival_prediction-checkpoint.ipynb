{
 "cells": [
  {
   "cell_type": "markdown",
   "id": "33813065",
   "metadata": {},
   "source": [
    "## 1. Importing Necessary Libraries"
   ]
  },
  {
   "cell_type": "code",
   "execution_count": 200,
   "id": "0c2ca2df",
   "metadata": {},
   "outputs": [],
   "source": [
    "# Data Manipulation Libraries\n",
    "import pandas as pd  # For handling data in tabular form\n",
    "import numpy as np  # For numerical operations\n",
    "\n",
    "# Data Visualization Libraries\n",
    "import matplotlib.pyplot as plt  # For creating static, interactive, and animated visualizations\n",
    "import seaborn as sns  # For creating more attractive and informative statistical graphics\n",
    "import missingno  # For visualizing missing values in the dataset\n",
    "\n",
    "# General Python Libraries\n",
    "from collections import Counter  # For counting occurrences of elements in data structures\n",
    "import math  # For basic mathematical operations\n",
    "\n",
    "# Data Preprocessing Libraries\n",
    "from sklearn.model_selection import train_test_split  # For splitting the data into training and testing sets\n",
    "from sklearn.metrics import accuracy_score  # For evaluating the accuracy of models\n",
    "from sklearn.preprocessing import StandardScaler  # For scaling features (z-score normalization)\n",
    "\n",
    "# Machine Learning Models for Classification\n",
    "from sklearn.linear_model import LogisticRegression  # For logistic regression model\n",
    "from sklearn.tree import DecisionTreeClassifier  # For decision tree classifier model\n",
    "from sklearn.ensemble import RandomForestClassifier  # For random forest classifier model\n",
    "from sklearn.svm import LinearSVC  # For linear support vector classifier model\n",
    "from sklearn.neighbors import KNeighborsClassifier  # For k-nearest neighbors classifier model\n",
    "from sklearn.naive_bayes import GaussianNB  # For Gaussian Naive Bayes model\n",
    "from catboost import CatBoostClassifier  # For gradient boosting on decision trees model with categorical features support\n",
    "from sklearn.svm import SVC  # For support vector classifier model\n",
    "\n",
    "from sklearn.preprocessing import LabelEncoder\n",
    "from sklearn.impute import SimpleImputer"
   ]
  },
  {
   "cell_type": "markdown",
   "id": "01fd48b2",
   "metadata": {},
   "source": [
    "## 2. Load the Dataset"
   ]
  },
  {
   "cell_type": "code",
   "execution_count": 201,
   "id": "47486c72",
   "metadata": {},
   "outputs": [],
   "source": [
    "#Load the Train Dataset to Pandas DataFrame\n",
    "titanic_data = pd.read_csv('data/train.csv')\n",
    "\n",
    "#import the dataset\n",
    "titanic_train=pd.read_csv(\"data/train.csv\")\n",
    "titanic_test=pd.read_csv(\"data/test.csv\")\n",
    "titanic_gender=pd.read_csv(\"data/gender_submission.csv\")"
   ]
  },
  {
   "cell_type": "markdown",
   "id": "45b5d193",
   "metadata": {},
   "source": [
    "## 3. Initial Data Exploration"
   ]
  },
  {
   "cell_type": "markdown",
   "id": "1ed2a615",
   "metadata": {},
   "source": [
    "### 3.1 Viewing the data"
   ]
  },
  {
   "cell_type": "code",
   "execution_count": 202,
   "id": "230a1923",
   "metadata": {
    "scrolled": false
   },
   "outputs": [
    {
     "data": {
      "text/html": [
       "<div>\n",
       "<style scoped>\n",
       "    .dataframe tbody tr th:only-of-type {\n",
       "        vertical-align: middle;\n",
       "    }\n",
       "\n",
       "    .dataframe tbody tr th {\n",
       "        vertical-align: top;\n",
       "    }\n",
       "\n",
       "    .dataframe thead th {\n",
       "        text-align: right;\n",
       "    }\n",
       "</style>\n",
       "<table border=\"1\" class=\"dataframe\">\n",
       "  <thead>\n",
       "    <tr style=\"text-align: right;\">\n",
       "      <th></th>\n",
       "      <th>PassengerId</th>\n",
       "      <th>Survived</th>\n",
       "      <th>Pclass</th>\n",
       "      <th>Name</th>\n",
       "      <th>Sex</th>\n",
       "      <th>Age</th>\n",
       "      <th>SibSp</th>\n",
       "      <th>Parch</th>\n",
       "      <th>Ticket</th>\n",
       "      <th>Fare</th>\n",
       "      <th>Cabin</th>\n",
       "      <th>Embarked</th>\n",
       "    </tr>\n",
       "  </thead>\n",
       "  <tbody>\n",
       "    <tr>\n",
       "      <th>0</th>\n",
       "      <td>1</td>\n",
       "      <td>0</td>\n",
       "      <td>3</td>\n",
       "      <td>Braund, Mr. Owen Harris</td>\n",
       "      <td>male</td>\n",
       "      <td>22.0</td>\n",
       "      <td>1</td>\n",
       "      <td>0</td>\n",
       "      <td>A/5 21171</td>\n",
       "      <td>7.2500</td>\n",
       "      <td>NaN</td>\n",
       "      <td>S</td>\n",
       "    </tr>\n",
       "    <tr>\n",
       "      <th>1</th>\n",
       "      <td>2</td>\n",
       "      <td>1</td>\n",
       "      <td>1</td>\n",
       "      <td>Cumings, Mrs. John Bradley (Florence Briggs Th...</td>\n",
       "      <td>female</td>\n",
       "      <td>38.0</td>\n",
       "      <td>1</td>\n",
       "      <td>0</td>\n",
       "      <td>PC 17599</td>\n",
       "      <td>71.2833</td>\n",
       "      <td>C85</td>\n",
       "      <td>C</td>\n",
       "    </tr>\n",
       "    <tr>\n",
       "      <th>2</th>\n",
       "      <td>3</td>\n",
       "      <td>1</td>\n",
       "      <td>3</td>\n",
       "      <td>Heikkinen, Miss. Laina</td>\n",
       "      <td>female</td>\n",
       "      <td>26.0</td>\n",
       "      <td>0</td>\n",
       "      <td>0</td>\n",
       "      <td>STON/O2. 3101282</td>\n",
       "      <td>7.9250</td>\n",
       "      <td>NaN</td>\n",
       "      <td>S</td>\n",
       "    </tr>\n",
       "    <tr>\n",
       "      <th>3</th>\n",
       "      <td>4</td>\n",
       "      <td>1</td>\n",
       "      <td>1</td>\n",
       "      <td>Futrelle, Mrs. Jacques Heath (Lily May Peel)</td>\n",
       "      <td>female</td>\n",
       "      <td>35.0</td>\n",
       "      <td>1</td>\n",
       "      <td>0</td>\n",
       "      <td>113803</td>\n",
       "      <td>53.1000</td>\n",
       "      <td>C123</td>\n",
       "      <td>S</td>\n",
       "    </tr>\n",
       "    <tr>\n",
       "      <th>4</th>\n",
       "      <td>5</td>\n",
       "      <td>0</td>\n",
       "      <td>3</td>\n",
       "      <td>Allen, Mr. William Henry</td>\n",
       "      <td>male</td>\n",
       "      <td>35.0</td>\n",
       "      <td>0</td>\n",
       "      <td>0</td>\n",
       "      <td>373450</td>\n",
       "      <td>8.0500</td>\n",
       "      <td>NaN</td>\n",
       "      <td>S</td>\n",
       "    </tr>\n",
       "  </tbody>\n",
       "</table>\n",
       "</div>"
      ],
      "text/plain": [
       "   PassengerId  Survived  Pclass  \\\n",
       "0            1         0       3   \n",
       "1            2         1       1   \n",
       "2            3         1       3   \n",
       "3            4         1       1   \n",
       "4            5         0       3   \n",
       "\n",
       "                                                Name     Sex   Age  SibSp  \\\n",
       "0                            Braund, Mr. Owen Harris    male  22.0      1   \n",
       "1  Cumings, Mrs. John Bradley (Florence Briggs Th...  female  38.0      1   \n",
       "2                             Heikkinen, Miss. Laina  female  26.0      0   \n",
       "3       Futrelle, Mrs. Jacques Heath (Lily May Peel)  female  35.0      1   \n",
       "4                           Allen, Mr. William Henry    male  35.0      0   \n",
       "\n",
       "   Parch            Ticket     Fare Cabin Embarked  \n",
       "0      0         A/5 21171   7.2500   NaN        S  \n",
       "1      0          PC 17599  71.2833   C85        C  \n",
       "2      0  STON/O2. 3101282   7.9250   NaN        S  \n",
       "3      0            113803  53.1000  C123        S  \n",
       "4      0            373450   8.0500   NaN        S  "
      ]
     },
     "execution_count": 202,
     "metadata": {},
     "output_type": "execute_result"
    }
   ],
   "source": [
    "#Explore the Dataset\n",
    "titanic_train.head()"
   ]
  },
  {
   "cell_type": "code",
   "execution_count": 203,
   "id": "2382f8d9",
   "metadata": {},
   "outputs": [
    {
     "data": {
      "text/html": [
       "<div>\n",
       "<style scoped>\n",
       "    .dataframe tbody tr th:only-of-type {\n",
       "        vertical-align: middle;\n",
       "    }\n",
       "\n",
       "    .dataframe tbody tr th {\n",
       "        vertical-align: top;\n",
       "    }\n",
       "\n",
       "    .dataframe thead th {\n",
       "        text-align: right;\n",
       "    }\n",
       "</style>\n",
       "<table border=\"1\" class=\"dataframe\">\n",
       "  <thead>\n",
       "    <tr style=\"text-align: right;\">\n",
       "      <th></th>\n",
       "      <th>PassengerId</th>\n",
       "      <th>Pclass</th>\n",
       "      <th>Name</th>\n",
       "      <th>Sex</th>\n",
       "      <th>Age</th>\n",
       "      <th>SibSp</th>\n",
       "      <th>Parch</th>\n",
       "      <th>Ticket</th>\n",
       "      <th>Fare</th>\n",
       "      <th>Cabin</th>\n",
       "      <th>Embarked</th>\n",
       "    </tr>\n",
       "  </thead>\n",
       "  <tbody>\n",
       "    <tr>\n",
       "      <th>0</th>\n",
       "      <td>892</td>\n",
       "      <td>3</td>\n",
       "      <td>Kelly, Mr. James</td>\n",
       "      <td>male</td>\n",
       "      <td>34.5</td>\n",
       "      <td>0</td>\n",
       "      <td>0</td>\n",
       "      <td>330911</td>\n",
       "      <td>7.8292</td>\n",
       "      <td>NaN</td>\n",
       "      <td>Q</td>\n",
       "    </tr>\n",
       "    <tr>\n",
       "      <th>1</th>\n",
       "      <td>893</td>\n",
       "      <td>3</td>\n",
       "      <td>Wilkes, Mrs. James (Ellen Needs)</td>\n",
       "      <td>female</td>\n",
       "      <td>47.0</td>\n",
       "      <td>1</td>\n",
       "      <td>0</td>\n",
       "      <td>363272</td>\n",
       "      <td>7.0000</td>\n",
       "      <td>NaN</td>\n",
       "      <td>S</td>\n",
       "    </tr>\n",
       "    <tr>\n",
       "      <th>2</th>\n",
       "      <td>894</td>\n",
       "      <td>2</td>\n",
       "      <td>Myles, Mr. Thomas Francis</td>\n",
       "      <td>male</td>\n",
       "      <td>62.0</td>\n",
       "      <td>0</td>\n",
       "      <td>0</td>\n",
       "      <td>240276</td>\n",
       "      <td>9.6875</td>\n",
       "      <td>NaN</td>\n",
       "      <td>Q</td>\n",
       "    </tr>\n",
       "    <tr>\n",
       "      <th>3</th>\n",
       "      <td>895</td>\n",
       "      <td>3</td>\n",
       "      <td>Wirz, Mr. Albert</td>\n",
       "      <td>male</td>\n",
       "      <td>27.0</td>\n",
       "      <td>0</td>\n",
       "      <td>0</td>\n",
       "      <td>315154</td>\n",
       "      <td>8.6625</td>\n",
       "      <td>NaN</td>\n",
       "      <td>S</td>\n",
       "    </tr>\n",
       "    <tr>\n",
       "      <th>4</th>\n",
       "      <td>896</td>\n",
       "      <td>3</td>\n",
       "      <td>Hirvonen, Mrs. Alexander (Helga E Lindqvist)</td>\n",
       "      <td>female</td>\n",
       "      <td>22.0</td>\n",
       "      <td>1</td>\n",
       "      <td>1</td>\n",
       "      <td>3101298</td>\n",
       "      <td>12.2875</td>\n",
       "      <td>NaN</td>\n",
       "      <td>S</td>\n",
       "    </tr>\n",
       "  </tbody>\n",
       "</table>\n",
       "</div>"
      ],
      "text/plain": [
       "   PassengerId  Pclass                                          Name     Sex  \\\n",
       "0          892       3                              Kelly, Mr. James    male   \n",
       "1          893       3              Wilkes, Mrs. James (Ellen Needs)  female   \n",
       "2          894       2                     Myles, Mr. Thomas Francis    male   \n",
       "3          895       3                              Wirz, Mr. Albert    male   \n",
       "4          896       3  Hirvonen, Mrs. Alexander (Helga E Lindqvist)  female   \n",
       "\n",
       "    Age  SibSp  Parch   Ticket     Fare Cabin Embarked  \n",
       "0  34.5      0      0   330911   7.8292   NaN        Q  \n",
       "1  47.0      1      0   363272   7.0000   NaN        S  \n",
       "2  62.0      0      0   240276   9.6875   NaN        Q  \n",
       "3  27.0      0      0   315154   8.6625   NaN        S  \n",
       "4  22.0      1      1  3101298  12.2875   NaN        S  "
      ]
     },
     "execution_count": 203,
     "metadata": {},
     "output_type": "execute_result"
    }
   ],
   "source": [
    "#Explore the Dataset\n",
    "titanic_test.head()"
   ]
  },
  {
   "cell_type": "code",
   "execution_count": 204,
   "id": "5b523d37",
   "metadata": {
    "scrolled": true
   },
   "outputs": [
    {
     "data": {
      "text/html": [
       "<div>\n",
       "<style scoped>\n",
       "    .dataframe tbody tr th:only-of-type {\n",
       "        vertical-align: middle;\n",
       "    }\n",
       "\n",
       "    .dataframe tbody tr th {\n",
       "        vertical-align: top;\n",
       "    }\n",
       "\n",
       "    .dataframe thead th {\n",
       "        text-align: right;\n",
       "    }\n",
       "</style>\n",
       "<table border=\"1\" class=\"dataframe\">\n",
       "  <thead>\n",
       "    <tr style=\"text-align: right;\">\n",
       "      <th></th>\n",
       "      <th>PassengerId</th>\n",
       "      <th>Survived</th>\n",
       "    </tr>\n",
       "  </thead>\n",
       "  <tbody>\n",
       "    <tr>\n",
       "      <th>0</th>\n",
       "      <td>892</td>\n",
       "      <td>0</td>\n",
       "    </tr>\n",
       "    <tr>\n",
       "      <th>1</th>\n",
       "      <td>893</td>\n",
       "      <td>1</td>\n",
       "    </tr>\n",
       "    <tr>\n",
       "      <th>2</th>\n",
       "      <td>894</td>\n",
       "      <td>0</td>\n",
       "    </tr>\n",
       "    <tr>\n",
       "      <th>3</th>\n",
       "      <td>895</td>\n",
       "      <td>0</td>\n",
       "    </tr>\n",
       "    <tr>\n",
       "      <th>4</th>\n",
       "      <td>896</td>\n",
       "      <td>1</td>\n",
       "    </tr>\n",
       "  </tbody>\n",
       "</table>\n",
       "</div>"
      ],
      "text/plain": [
       "   PassengerId  Survived\n",
       "0          892         0\n",
       "1          893         1\n",
       "2          894         0\n",
       "3          895         0\n",
       "4          896         1"
      ]
     },
     "execution_count": 204,
     "metadata": {},
     "output_type": "execute_result"
    }
   ],
   "source": [
    "#Explore the Dataset\n",
    "titanic_gender.head()"
   ]
  },
  {
   "cell_type": "markdown",
   "id": "7c83f55b",
   "metadata": {},
   "source": [
    "### 3.2 Shape of the data"
   ]
  },
  {
   "cell_type": "code",
   "execution_count": 205,
   "id": "32d39832",
   "metadata": {
    "scrolled": true
   },
   "outputs": [
    {
     "data": {
      "text/plain": [
       "(891, 12)"
      ]
     },
     "execution_count": 205,
     "metadata": {},
     "output_type": "execute_result"
    }
   ],
   "source": [
    "# Number of Rows and Columns\n",
    "titanic_train.shape"
   ]
  },
  {
   "cell_type": "code",
   "execution_count": 206,
   "id": "8361cb19",
   "metadata": {},
   "outputs": [
    {
     "data": {
      "text/plain": [
       "(418, 11)"
      ]
     },
     "execution_count": 206,
     "metadata": {},
     "output_type": "execute_result"
    }
   ],
   "source": [
    "# Number of Rows and Columns\n",
    "titanic_test.shape"
   ]
  },
  {
   "cell_type": "code",
   "execution_count": 207,
   "id": "6b773b17",
   "metadata": {},
   "outputs": [
    {
     "data": {
      "text/plain": [
       "(418, 2)"
      ]
     },
     "execution_count": 207,
     "metadata": {},
     "output_type": "execute_result"
    }
   ],
   "source": [
    "# Number of Rows and Columns\n",
    "titanic_gender.shape"
   ]
  },
  {
   "cell_type": "markdown",
   "id": "6449d955",
   "metadata": {},
   "source": [
    "### 3.3 Information about the data"
   ]
  },
  {
   "cell_type": "code",
   "execution_count": 208,
   "id": "deb43378",
   "metadata": {
    "scrolled": false
   },
   "outputs": [
    {
     "name": "stdout",
     "output_type": "stream",
     "text": [
      "<class 'pandas.core.frame.DataFrame'>\n",
      "RangeIndex: 891 entries, 0 to 890\n",
      "Data columns (total 12 columns):\n",
      " #   Column       Non-Null Count  Dtype  \n",
      "---  ------       --------------  -----  \n",
      " 0   PassengerId  891 non-null    int64  \n",
      " 1   Survived     891 non-null    int64  \n",
      " 2   Pclass       891 non-null    int64  \n",
      " 3   Name         891 non-null    object \n",
      " 4   Sex          891 non-null    object \n",
      " 5   Age          714 non-null    float64\n",
      " 6   SibSp        891 non-null    int64  \n",
      " 7   Parch        891 non-null    int64  \n",
      " 8   Ticket       891 non-null    object \n",
      " 9   Fare         891 non-null    float64\n",
      " 10  Cabin        204 non-null    object \n",
      " 11  Embarked     889 non-null    object \n",
      "dtypes: float64(2), int64(5), object(5)\n",
      "memory usage: 83.7+ KB\n"
     ]
    }
   ],
   "source": [
    "# Get information about the data\n",
    "titanic_train.info()"
   ]
  },
  {
   "cell_type": "code",
   "execution_count": 209,
   "id": "a983be6b",
   "metadata": {},
   "outputs": [
    {
     "name": "stdout",
     "output_type": "stream",
     "text": [
      "<class 'pandas.core.frame.DataFrame'>\n",
      "RangeIndex: 418 entries, 0 to 417\n",
      "Data columns (total 11 columns):\n",
      " #   Column       Non-Null Count  Dtype  \n",
      "---  ------       --------------  -----  \n",
      " 0   PassengerId  418 non-null    int64  \n",
      " 1   Pclass       418 non-null    int64  \n",
      " 2   Name         418 non-null    object \n",
      " 3   Sex          418 non-null    object \n",
      " 4   Age          332 non-null    float64\n",
      " 5   SibSp        418 non-null    int64  \n",
      " 6   Parch        418 non-null    int64  \n",
      " 7   Ticket       418 non-null    object \n",
      " 8   Fare         417 non-null    float64\n",
      " 9   Cabin        91 non-null     object \n",
      " 10  Embarked     418 non-null    object \n",
      "dtypes: float64(2), int64(4), object(5)\n",
      "memory usage: 36.0+ KB\n"
     ]
    }
   ],
   "source": [
    "# Get information about the data\n",
    "titanic_test.info()"
   ]
  },
  {
   "cell_type": "code",
   "execution_count": 210,
   "id": "113a0f9b",
   "metadata": {},
   "outputs": [
    {
     "name": "stdout",
     "output_type": "stream",
     "text": [
      "<class 'pandas.core.frame.DataFrame'>\n",
      "RangeIndex: 418 entries, 0 to 417\n",
      "Data columns (total 2 columns):\n",
      " #   Column       Non-Null Count  Dtype\n",
      "---  ------       --------------  -----\n",
      " 0   PassengerId  418 non-null    int64\n",
      " 1   Survived     418 non-null    int64\n",
      "dtypes: int64(2)\n",
      "memory usage: 6.7 KB\n"
     ]
    }
   ],
   "source": [
    "# Get information about the data\n",
    "titanic_gender.info()"
   ]
  },
  {
   "cell_type": "markdown",
   "id": "86da2398",
   "metadata": {},
   "source": [
    "### 3.4 Checking missing data"
   ]
  },
  {
   "cell_type": "code",
   "execution_count": 211,
   "id": "e58fbdd4",
   "metadata": {},
   "outputs": [
    {
     "data": {
      "text/plain": [
       "PassengerId      0\n",
       "Survived         0\n",
       "Pclass           0\n",
       "Name             0\n",
       "Sex              0\n",
       "Age            177\n",
       "SibSp            0\n",
       "Parch            0\n",
       "Ticket           0\n",
       "Fare             0\n",
       "Cabin          687\n",
       "Embarked         2\n",
       "dtype: int64"
      ]
     },
     "execution_count": 211,
     "metadata": {},
     "output_type": "execute_result"
    }
   ],
   "source": [
    "# Checking missing data\n",
    "titanic_train.isnull().sum()"
   ]
  },
  {
   "cell_type": "code",
   "execution_count": 212,
   "id": "17f496d1",
   "metadata": {},
   "outputs": [
    {
     "data": {
      "text/plain": [
       "PassengerId      0\n",
       "Pclass           0\n",
       "Name             0\n",
       "Sex              0\n",
       "Age             86\n",
       "SibSp            0\n",
       "Parch            0\n",
       "Ticket           0\n",
       "Fare             1\n",
       "Cabin          327\n",
       "Embarked         0\n",
       "dtype: int64"
      ]
     },
     "execution_count": 212,
     "metadata": {},
     "output_type": "execute_result"
    }
   ],
   "source": [
    "# Checking missing data\n",
    "titanic_test.isnull().sum()"
   ]
  },
  {
   "cell_type": "code",
   "execution_count": 213,
   "id": "b71d19e9",
   "metadata": {},
   "outputs": [
    {
     "data": {
      "text/plain": [
       "PassengerId    0\n",
       "Survived       0\n",
       "dtype: int64"
      ]
     },
     "execution_count": 213,
     "metadata": {},
     "output_type": "execute_result"
    }
   ],
   "source": [
    "# Checking missing data\n",
    "titanic_gender.isnull().sum()"
   ]
  },
  {
   "cell_type": "markdown",
   "id": "04e5692a",
   "metadata": {},
   "source": [
    "## 4. Data Cleaning"
   ]
  },
  {
   "cell_type": "markdown",
   "id": "1c05b35d",
   "metadata": {},
   "source": [
    "### 4.1 Handling Missing Values"
   ]
  },
  {
   "cell_type": "code",
   "execution_count": 214,
   "id": "d1425b4f",
   "metadata": {},
   "outputs": [
    {
     "name": "stdout",
     "output_type": "stream",
     "text": [
      "PassengerId      0\n",
      "Survived         0\n",
      "Pclass           0\n",
      "Name             0\n",
      "Sex              0\n",
      "Age            177\n",
      "SibSp            0\n",
      "Parch            0\n",
      "Ticket           0\n",
      "Fare             0\n",
      "Cabin          687\n",
      "Embarked         2\n",
      "dtype: int64\n",
      "PassengerId      0\n",
      "Pclass           0\n",
      "Name             0\n",
      "Sex              0\n",
      "Age             86\n",
      "SibSp            0\n",
      "Parch            0\n",
      "Ticket           0\n",
      "Fare             1\n",
      "Cabin          327\n",
      "Embarked         0\n",
      "dtype: int64\n"
     ]
    }
   ],
   "source": [
    "print(titanic_train.isnull().sum())\n",
    "print(titanic_test.isnull().sum())"
   ]
  },
  {
   "cell_type": "markdown",
   "id": "9813800d",
   "metadata": {},
   "source": [
    "### 4.2 Handling Missing Values in Age column"
   ]
  },
  {
   "cell_type": "code",
   "execution_count": 215,
   "id": "59593f2c",
   "metadata": {},
   "outputs": [],
   "source": [
    "median_age_train = titanic_train['Age'].median()\n",
    "median_age_test = titanic_test['Age'].median()\n",
    "\n",
    "titanic_train['Age'].fillna(median_age_train, inplace=True)\n",
    "titanic_test['Age'].fillna(median_age_test, inplace=True)"
   ]
  },
  {
   "cell_type": "markdown",
   "id": "5d3cdfed",
   "metadata": {},
   "source": [
    "### 4.3 Handling Missing Values in Embarked column"
   ]
  },
  {
   "cell_type": "code",
   "execution_count": 216,
   "id": "d608864e",
   "metadata": {},
   "outputs": [],
   "source": [
    "mode_embarked_train = titanic_train['Embarked'].mode()[0]\n",
    "mode_embarked_test = titanic_test['Embarked'].mode()[0]\n",
    "\n",
    "titanic_train['Embarked'].fillna(mode_embarked_train, inplace=True)\n",
    "titanic_test['Embarked'].fillna(mode_embarked_test, inplace=True)"
   ]
  },
  {
   "cell_type": "markdown",
   "id": "b63ce28c",
   "metadata": {},
   "source": [
    "### 4.4 Checking missing data again"
   ]
  },
  {
   "cell_type": "code",
   "execution_count": 217,
   "id": "7fa7b2cb",
   "metadata": {
    "scrolled": true
   },
   "outputs": [
    {
     "name": "stdout",
     "output_type": "stream",
     "text": [
      "PassengerId      0\n",
      "Survived         0\n",
      "Pclass           0\n",
      "Name             0\n",
      "Sex              0\n",
      "Age              0\n",
      "SibSp            0\n",
      "Parch            0\n",
      "Ticket           0\n",
      "Fare             0\n",
      "Cabin          687\n",
      "Embarked         0\n",
      "dtype: int64\n",
      "PassengerId      0\n",
      "Pclass           0\n",
      "Name             0\n",
      "Sex              0\n",
      "Age              0\n",
      "SibSp            0\n",
      "Parch            0\n",
      "Ticket           0\n",
      "Fare             1\n",
      "Cabin          327\n",
      "Embarked         0\n",
      "dtype: int64\n"
     ]
    }
   ],
   "source": [
    "print(titanic_train.isnull().sum())\n",
    "print(titanic_test.isnull().sum())"
   ]
  },
  {
   "cell_type": "markdown",
   "id": "94c6e9d2",
   "metadata": {},
   "source": [
    "## 5. Data Analysis"
   ]
  },
  {
   "cell_type": "markdown",
   "id": "81d0b237",
   "metadata": {},
   "source": [
    "### 5.1 Statistical Summary of the DataFrame"
   ]
  },
  {
   "cell_type": "code",
   "execution_count": 218,
   "id": "7bdbb8f9",
   "metadata": {
    "scrolled": true
   },
   "outputs": [
    {
     "name": "stdout",
     "output_type": "stream",
     "text": [
      "       PassengerId    Survived      Pclass         Age       SibSp  \\\n",
      "count   891.000000  891.000000  891.000000  891.000000  891.000000   \n",
      "mean    446.000000    0.383838    2.308642   29.361582    0.523008   \n",
      "std     257.353842    0.486592    0.836071   13.019697    1.102743   \n",
      "min       1.000000    0.000000    1.000000    0.420000    0.000000   \n",
      "25%     223.500000    0.000000    2.000000   22.000000    0.000000   \n",
      "50%     446.000000    0.000000    3.000000   28.000000    0.000000   \n",
      "75%     668.500000    1.000000    3.000000   35.000000    1.000000   \n",
      "max     891.000000    1.000000    3.000000   80.000000    8.000000   \n",
      "\n",
      "            Parch        Fare  \n",
      "count  891.000000  891.000000  \n",
      "mean     0.381594   32.204208  \n",
      "std      0.806057   49.693429  \n",
      "min      0.000000    0.000000  \n",
      "25%      0.000000    7.910400  \n",
      "50%      0.000000   14.454200  \n",
      "75%      0.000000   31.000000  \n",
      "max      6.000000  512.329200  \n",
      "        PassengerId    Survived      Pclass                     Name   Sex  \\\n",
      "count    891.000000  891.000000  891.000000                      891   891   \n",
      "unique          NaN         NaN         NaN                      891     2   \n",
      "top             NaN         NaN         NaN  Braund, Mr. Owen Harris  male   \n",
      "freq            NaN         NaN         NaN                        1   577   \n",
      "mean     446.000000    0.383838    2.308642                      NaN   NaN   \n",
      "std      257.353842    0.486592    0.836071                      NaN   NaN   \n",
      "min        1.000000    0.000000    1.000000                      NaN   NaN   \n",
      "25%      223.500000    0.000000    2.000000                      NaN   NaN   \n",
      "50%      446.000000    0.000000    3.000000                      NaN   NaN   \n",
      "75%      668.500000    1.000000    3.000000                      NaN   NaN   \n",
      "max      891.000000    1.000000    3.000000                      NaN   NaN   \n",
      "\n",
      "               Age       SibSp       Parch  Ticket        Fare    Cabin  \\\n",
      "count   891.000000  891.000000  891.000000     891  891.000000      204   \n",
      "unique         NaN         NaN         NaN     681         NaN      147   \n",
      "top            NaN         NaN         NaN  347082         NaN  B96 B98   \n",
      "freq           NaN         NaN         NaN       7         NaN        4   \n",
      "mean     29.361582    0.523008    0.381594     NaN   32.204208      NaN   \n",
      "std      13.019697    1.102743    0.806057     NaN   49.693429      NaN   \n",
      "min       0.420000    0.000000    0.000000     NaN    0.000000      NaN   \n",
      "25%      22.000000    0.000000    0.000000     NaN    7.910400      NaN   \n",
      "50%      28.000000    0.000000    0.000000     NaN   14.454200      NaN   \n",
      "75%      35.000000    1.000000    0.000000     NaN   31.000000      NaN   \n",
      "max      80.000000    8.000000    6.000000     NaN  512.329200      NaN   \n",
      "\n",
      "       Embarked  \n",
      "count       891  \n",
      "unique        3  \n",
      "top           S  \n",
      "freq        646  \n",
      "mean        NaN  \n",
      "std         NaN  \n",
      "min         NaN  \n",
      "25%         NaN  \n",
      "50%         NaN  \n",
      "75%         NaN  \n",
      "max         NaN  \n"
     ]
    }
   ],
   "source": [
    "# For the training dataset\n",
    "print(titanic_train.describe())\n",
    "\n",
    "# If you want to include categorical columns as well:\n",
    "print(titanic_train.describe(include='all'))\n"
   ]
  },
  {
   "cell_type": "markdown",
   "id": "4ac8f7e8",
   "metadata": {},
   "source": [
    "### 5.2 Checking the Survival Count"
   ]
  },
  {
   "cell_type": "code",
   "execution_count": 219,
   "id": "4b70f5be",
   "metadata": {},
   "outputs": [
    {
     "name": "stdout",
     "output_type": "stream",
     "text": [
      "Survived:\n",
      "0    549\n",
      "1    342\n",
      "Name: Survived, dtype: int64\n",
      "\n"
     ]
    }
   ],
   "source": [
    "# Compute value counts for 'Survived' column\n",
    "survived_counts = titanic_train['Survived'].value_counts()\n",
    "print(\"Survived:\")\n",
    "print(survived_counts)\n",
    "print()"
   ]
  },
  {
   "cell_type": "code",
   "execution_count": 220,
   "id": "c0c9fa94",
   "metadata": {},
   "outputs": [
    {
     "name": "stdout",
     "output_type": "stream",
     "text": [
      "Survived - Sex:\n",
      "female    233\n",
      "male      109\n",
      "Name: Sex, dtype: int64\n",
      "\n",
      "Not Survived - Sex:\n",
      "male      468\n",
      "female     81\n",
      "Name: Sex, dtype: int64\n",
      "\n"
     ]
    }
   ],
   "source": [
    "# Compute value counts for 'Sex' column based on 'Survived' column\n",
    "sex_counts_survived = titanic_train[titanic_train['Survived'] == 1]['Sex'].value_counts()\n",
    "sex_counts_not_survived = titanic_train[titanic_train['Survived'] == 0]['Sex'].value_counts()\n",
    "\n",
    "print(\"Survived - Sex:\")\n",
    "print(sex_counts_survived)\n",
    "print()\n",
    "\n",
    "print(\"Not Survived - Sex:\")\n",
    "print(sex_counts_not_survived)\n",
    "print()\n"
   ]
  },
  {
   "cell_type": "code",
   "execution_count": 221,
   "id": "f3f2b591",
   "metadata": {
    "scrolled": false
   },
   "outputs": [
    {
     "name": "stdout",
     "output_type": "stream",
     "text": [
      "Survived - Age:\n",
      "28.00    59\n",
      "24.00    15\n",
      "35.00    11\n",
      "27.00    11\n",
      "36.00    11\n",
      "         ..\n",
      "55.00     1\n",
      "32.50     1\n",
      "12.00     1\n",
      "0.92      1\n",
      "47.00     1\n",
      "Name: Age, Length: 65, dtype: int64\n",
      "\n",
      "Not Survived - Age:\n",
      "28.0    143\n",
      "21.0     19\n",
      "25.0     17\n",
      "18.0     17\n",
      "22.0     16\n",
      "       ... \n",
      "15.0      1\n",
      "36.5      1\n",
      "23.5      1\n",
      "55.5      1\n",
      "74.0      1\n",
      "Name: Age, Length: 77, dtype: int64\n",
      "\n"
     ]
    }
   ],
   "source": [
    "# Compute value counts for 'Age' column based on 'Survived' column\n",
    "age_counts_survived = titanic_train[titanic_train['Survived'] == 1]['Age'].value_counts()\n",
    "age_counts_not_survived = titanic_train[titanic_train['Survived'] == 0]['Age'].value_counts()\n",
    "\n",
    "print(\"Survived - Age:\")\n",
    "print(age_counts_survived)\n",
    "print()\n",
    "\n",
    "print(\"Not Survived - Age:\")\n",
    "print(age_counts_not_survived)\n",
    "print()"
   ]
  },
  {
   "cell_type": "code",
   "execution_count": 222,
   "id": "29f21037",
   "metadata": {},
   "outputs": [
    {
     "name": "stdout",
     "output_type": "stream",
     "text": [
      "Survived - Fare:\n",
      "13.0000     16\n",
      "26.0000     15\n",
      "7.7500      12\n",
      "10.5000      9\n",
      "26.5500      8\n",
      "            ..\n",
      "55.4417      1\n",
      "75.2500      1\n",
      "108.9000     1\n",
      "247.5208     1\n",
      "24.0000      1\n",
      "Name: Fare, Length: 153, dtype: int64\n",
      "\n",
      "Not Survived - Fare:\n",
      "8.0500     38\n",
      "7.8958     37\n",
      "13.0000    26\n",
      "7.7500     22\n",
      "26.0000    16\n",
      "           ..\n",
      "51.8625     1\n",
      "90.0000     1\n",
      "12.2750     1\n",
      "9.3500      1\n",
      "10.5167     1\n",
      "Name: Fare, Length: 177, dtype: int64\n",
      "\n"
     ]
    }
   ],
   "source": [
    "# Count the number of passengers who survived or not based on fare\n",
    "fare_survived_counts = titanic_train[titanic_train['Survived'] == 1]['Fare'].value_counts()\n",
    "fare_not_survived_counts = titanic_train[titanic_train['Survived'] == 0]['Fare'].value_counts()\n",
    "\n",
    "# Print the counts\n",
    "print(\"Survived - Fare:\")\n",
    "print(fare_survived_counts)\n",
    "print()\n",
    "\n",
    "print(\"Not Survived - Fare:\")\n",
    "print(fare_not_survived_counts)\n",
    "print()\n"
   ]
  },
  {
   "cell_type": "code",
   "execution_count": 223,
   "id": "d50a8d10",
   "metadata": {},
   "outputs": [
    {
     "name": "stdout",
     "output_type": "stream",
     "text": [
      "Survived - Pclass:\n",
      "1    136\n",
      "3    119\n",
      "2     87\n",
      "Name: Pclass, dtype: int64\n",
      "\n",
      "Not Survived - Pclass:\n",
      "3    372\n",
      "2     97\n",
      "1     80\n",
      "Name: Pclass, dtype: int64\n",
      "\n"
     ]
    }
   ],
   "source": [
    "# Count the number of passengers who survived or not based on Pclass\n",
    "pclass_survived_counts = titanic_train[titanic_train['Survived'] == 1]['Pclass'].value_counts()\n",
    "pclass_not_survived_counts = titanic_train[titanic_train['Survived'] == 0]['Pclass'].value_counts()\n",
    "\n",
    "# Print the counts\n",
    "print(\"Survived - Pclass:\")\n",
    "print(pclass_survived_counts)\n",
    "print()\n",
    "\n",
    "print(\"Not Survived - Pclass:\")\n",
    "print(pclass_not_survived_counts)\n",
    "print()\n"
   ]
  },
  {
   "cell_type": "code",
   "execution_count": 224,
   "id": "9c359453",
   "metadata": {},
   "outputs": [
    {
     "name": "stdout",
     "output_type": "stream",
     "text": [
      "SibSp:\n",
      "0    608\n",
      "1    209\n",
      "2     28\n",
      "4     18\n",
      "3     16\n",
      "8      7\n",
      "5      5\n",
      "Name: SibSp, dtype: int64\n",
      "\n"
     ]
    }
   ],
   "source": [
    "# Compute value counts for 'SibSp' column\n",
    "sibsp_counts = titanic_train['SibSp'].value_counts()\n",
    "print(\"SibSp:\")\n",
    "print(sibsp_counts)\n",
    "print()"
   ]
  },
  {
   "cell_type": "code",
   "execution_count": 225,
   "id": "6f643b9f",
   "metadata": {
    "scrolled": true
   },
   "outputs": [
    {
     "name": "stdout",
     "output_type": "stream",
     "text": [
      "Parch:\n",
      "0    678\n",
      "1    118\n",
      "2     80\n",
      "5      5\n",
      "3      5\n",
      "4      4\n",
      "6      1\n",
      "Name: Parch, dtype: int64\n",
      "\n"
     ]
    }
   ],
   "source": [
    "# Compute value counts for 'Parch' column\n",
    "parch_counts = titanic_train['Parch'].value_counts()\n",
    "print(\"Parch:\")\n",
    "print(parch_counts)\n",
    "print()"
   ]
  },
  {
   "cell_type": "markdown",
   "id": "b1bf3bca",
   "metadata": {},
   "source": [
    "## 6. Data Visualization"
   ]
  },
  {
   "cell_type": "markdown",
   "id": "2cf3dc2b",
   "metadata": {},
   "source": [
    "### 6.1 Set seaborn as the default visualisation library"
   ]
  },
  {
   "cell_type": "code",
   "execution_count": 226,
   "id": "1bbfb9c0",
   "metadata": {},
   "outputs": [],
   "source": [
    "# Set seaborn as the default visualisation library\n",
    "sns.set()"
   ]
  },
  {
   "cell_type": "markdown",
   "id": "f398e6a6",
   "metadata": {},
   "source": [
    "### 6.2 Visualize the distribution of survival "
   ]
  },
  {
   "cell_type": "code",
   "execution_count": 227,
   "id": "32d7239e",
   "metadata": {
    "scrolled": true
   },
   "outputs": [
    {
     "data": {
      "image/png": "[encoded data removed]",
      "text/plain": [
       "<Figure size 640x480 with 1 Axes>"
      ]
     },
     "metadata": {},
     "output_type": "display_data"
    }
   ],
   "source": [
    "# Plot a bar chart to visualize the distribution of survival (0 = Not Survived, 1 = Survived)\n",
    "sns.countplot(x='Survived', data=titanic_train)\n",
    "plt.title('Survival Distribution')\n",
    "plt.xlabel('Survived')\n",
    "plt.ylabel('Count')\n",
    "plt.show()"
   ]
  },
  {
   "cell_type": "markdown",
   "id": "48efe4a1",
   "metadata": {},
   "source": [
    "### 6.3 Survival Analysis Based on Gender"
   ]
  },
  {
   "cell_type": "code",
   "execution_count": 228,
   "id": "2539ae3a",
   "metadata": {},
   "outputs": [
    {
     "data": {
      "image/png": "[encoded data removed]",
      "text/plain": [
       "<Figure size 640x480 with 1 Axes>"
      ]
     },
     "metadata": {},
     "output_type": "display_data"
    }
   ],
   "source": [
    "# Plot a bar chart to compare the count of survivors and non-survivors based on gender\n",
    "sns.countplot(x='Sex', hue='Survived', data=titanic_train)\n",
    "plt.title('Survival by Gender')\n",
    "plt.xlabel('Sex')\n",
    "plt.ylabel('Count')\n",
    "plt.legend(title='Survived', labels=['No', 'Yes'])\n",
    "plt.show()"
   ]
  },
  {
   "cell_type": "markdown",
   "id": "3aed886a",
   "metadata": {},
   "source": [
    "### 6.4 Survival Analysis Based on Age"
   ]
  },
  {
   "cell_type": "code",
   "execution_count": 229,
   "id": "4e15430f",
   "metadata": {},
   "outputs": [
    {
     "data": {
      "image/png": "[encoded data removed]",
      "text/plain": [
       "<Figure size 640x480 with 1 Axes>"
      ]
     },
     "metadata": {},
     "output_type": "display_data"
    }
   ],
   "source": [
    "# Filter the DataFrame based on 'Survived' column\n",
    "age_survived = titanic_train[titanic_train['Survived'] == 1]['Age']\n",
    "age_not_survived = titanic_train[titanic_train['Survived'] == 0]['Age']\n",
    "\n",
    "# Plot a histogram for passengers who survived\n",
    "sns.histplot(age_survived, kde=True, color='green', label='Survived')\n",
    "\n",
    "# Plot a histogram for passengers who did not survive\n",
    "sns.histplot(age_not_survived, kde=True, color='red', label='Not Survived')\n",
    "\n",
    "plt.title('Age Distribution by Survival')\n",
    "plt.xlabel('Age')\n",
    "plt.ylabel('Count')\n",
    "plt.legend()\n",
    "plt.show()"
   ]
  },
  {
   "cell_type": "markdown",
   "id": "fc0c8bb0",
   "metadata": {},
   "source": [
    "### 6.5 Survival Analysis Based on Fare"
   ]
  },
  {
   "cell_type": "code",
   "execution_count": 230,
   "id": "44cb4a0a",
   "metadata": {
    "scrolled": true
   },
   "outputs": [
    {
     "data": {
      "image/png": "[encoded data removed]",
      "text/plain": [
       "<Figure size 640x480 with 1 Axes>"
      ]
     },
     "metadata": {},
     "output_type": "display_data"
    }
   ],
   "source": [
    "# Filter the DataFrame based on 'Survived' column\n",
    "fare_survived = titanic_train[titanic_train['Survived'] == 1]['Fare']\n",
    "fare_not_survived = titanic_train[titanic_train['Survived'] == 0]['Fare']\n",
    "\n",
    "# Plot a histogram for passengers who survived\n",
    "sns.histplot(fare_survived, kde=True, color='green', label='Survived')\n",
    "\n",
    "# Plot a histogram for passengers who did not survive\n",
    "sns.histplot(fare_not_survived, kde=True, color='red', label='Not Survived')\n",
    "\n",
    "plt.title('Fare Distribution by Survival')\n",
    "plt.xlabel('Fare')\n",
    "plt.ylabel('Count')\n",
    "plt.legend()\n",
    "plt.show()"
   ]
  },
  {
   "cell_type": "markdown",
   "id": "62fed007",
   "metadata": {},
   "source": [
    "### 6.6 Survival Analysis Based on Passenger Class"
   ]
  },
  {
   "cell_type": "code",
   "execution_count": 231,
   "id": "bd42b9fa",
   "metadata": {
    "scrolled": true
   },
   "outputs": [
    {
     "data": {
      "image/png": "[encoded data removed]",
      "text/plain": [
       "<Figure size 640x480 with 1 Axes>"
      ]
     },
     "metadata": {},
     "output_type": "display_data"
    }
   ],
   "source": [
    "# Plot a bar chart to compare the count of survivors and non-survivors based on passenger class\n",
    "sns.countplot(x='Pclass', hue='Survived', data=titanic_train)\n",
    "plt.title('Survival by Passenger Class')\n",
    "plt.xlabel('Passenger Class')\n",
    "plt.ylabel('Count')\n",
    "plt.legend(title='Survived', labels=['No', 'Yes'])\n",
    "plt.show()"
   ]
  },
  {
   "cell_type": "markdown",
   "id": "343bf9f4",
   "metadata": {},
   "source": [
    "### 6.7 Survival Analysis Based on Family Size"
   ]
  },
  {
   "cell_type": "code",
   "execution_count": 232,
   "id": "7153455d",
   "metadata": {
    "scrolled": true
   },
   "outputs": [
    {
     "data": {
      "image/png": "[encoded data removed]",
      "text/plain": [
       "<Figure size 640x480 with 1 Axes>"
      ]
     },
     "metadata": {},
     "output_type": "display_data"
    }
   ],
   "source": [
    "# Assuming 'FamilySize' column exists, combining 'SibSp' and 'Parch'\n",
    "titanic_train['FamilySize'] = titanic_train['SibSp'] + titanic_train['Parch']\n",
    "\n",
    "# Plot a bar chart to compare the count of survivors and non-survivors based on family size\n",
    "sns.countplot(x='FamilySize', hue='Survived', data=titanic_train)\n",
    "plt.title('Survival by Family Size')\n",
    "plt.xlabel('Family Size')\n",
    "plt.ylabel('Count')\n",
    "plt.legend(title='Survived', labels=['No', 'Yes'])\n",
    "plt.show()"
   ]
  },
  {
   "cell_type": "markdown",
   "id": "f4df6bf9",
   "metadata": {},
   "source": [
    "### 6.8 Correlation Analysis and Visualization "
   ]
  },
  {
   "cell_type": "code",
   "execution_count": 233,
   "id": "b125da57",
   "metadata": {
    "scrolled": true
   },
   "outputs": [
    {
     "name": "stderr",
     "output_type": "stream",
     "text": [
      "C:\\Users\\PC\\AppData\\Local\\Temp\\ipykernel_6792\\2663228234.py:2: FutureWarning: The default value of numeric_only in DataFrame.corr is deprecated. In a future version, it will default to False. Select only valid columns or specify the value of numeric_only to silence this warning.\n",
      "  correlation = titanic_train.corr()\n"
     ]
    },
    {
     "data": {
      "image/png": "[encoded data removed]",
      "text/plain": [
       "<Figure size 640x480 with 2 Axes>"
      ]
     },
     "metadata": {},
     "output_type": "display_data"
    }
   ],
   "source": [
    "# Compute the correlation matrix\n",
    "correlation = titanic_train.corr()\n",
    "\n",
    "# Plot a heatmap to visualize the correlations between different variables\n",
    "sns.heatmap(correlation, annot=True, cmap='coolwarm')\n",
    "plt.title('Correlation Heatmap')\n",
    "plt.show()"
   ]
  },
  {
   "cell_type": "markdown",
   "id": "993a25a2",
   "metadata": {},
   "source": [
    "## 7. Data Preprocessing"
   ]
  },
  {
   "cell_type": "markdown",
   "id": "5737cf04",
   "metadata": {},
   "source": [
    "### 7.1 Conversion of Categorical Data to Numerical Data"
   ]
  },
  {
   "cell_type": "code",
   "execution_count": 234,
   "id": "5c4edf54",
   "metadata": {},
   "outputs": [],
   "source": [
    "def convert_categorical_to_numerical(data):\n",
    "    # Label encoding for 'Sex' column if it exists\n",
    "    if 'Sex' in data.columns:\n",
    "        le = LabelEncoder()\n",
    "        data['Sex'] = le.fit_transform(data['Sex'])\n",
    "    \n",
    "    # One-hot encoding for 'Embarked' column if it exists\n",
    "    if 'Embarked' in data.columns:\n",
    "        data = pd.get_dummies(data, columns=['Embarked'], drop_first=True)\n",
    "    \n",
    "    return data\n",
    "\n",
    "# Convert categorical columns in train and test data\n",
    "titanic_train = convert_categorical_to_numerical(titanic_train)\n",
    "titanic_test = convert_categorical_to_numerical(titanic_test)"
   ]
  },
  {
   "cell_type": "markdown",
   "id": "a4eda77d",
   "metadata": {},
   "source": [
    "### 7.2 Previewing the Dataset"
   ]
  },
  {
   "cell_type": "code",
   "execution_count": 235,
   "id": "a30570ad",
   "metadata": {
    "scrolled": true
   },
   "outputs": [
    {
     "name": "stdout",
     "output_type": "stream",
     "text": [
      "   PassengerId  Survived  Pclass  \\\n",
      "0            1         0       3   \n",
      "1            2         1       1   \n",
      "2            3         1       3   \n",
      "3            4         1       1   \n",
      "4            5         0       3   \n",
      "\n",
      "                                                Name  Sex   Age  SibSp  Parch  \\\n",
      "0                            Braund, Mr. Owen Harris    1  22.0      1      0   \n",
      "1  Cumings, Mrs. John Bradley (Florence Briggs Th...    0  38.0      1      0   \n",
      "2                             Heikkinen, Miss. Laina    0  26.0      0      0   \n",
      "3       Futrelle, Mrs. Jacques Heath (Lily May Peel)    0  35.0      1      0   \n",
      "4                           Allen, Mr. William Henry    1  35.0      0      0   \n",
      "\n",
      "             Ticket     Fare Cabin  FamilySize  Embarked_Q  Embarked_S  \n",
      "0         A/5 21171   7.2500   NaN           1           0           1  \n",
      "1          PC 17599  71.2833   C85           1           0           0  \n",
      "2  STON/O2. 3101282   7.9250   NaN           0           0           1  \n",
      "3            113803  53.1000  C123           1           0           1  \n",
      "4            373450   8.0500   NaN           0           0           1  \n",
      "   PassengerId  Pclass                                          Name  Sex  \\\n",
      "0          892       3                              Kelly, Mr. James    1   \n",
      "1          893       3              Wilkes, Mrs. James (Ellen Needs)    0   \n",
      "2          894       2                     Myles, Mr. Thomas Francis    1   \n",
      "3          895       3                              Wirz, Mr. Albert    1   \n",
      "4          896       3  Hirvonen, Mrs. Alexander (Helga E Lindqvist)    0   \n",
      "\n",
      "    Age  SibSp  Parch   Ticket     Fare Cabin  Embarked_Q  Embarked_S  \n",
      "0  34.5      0      0   330911   7.8292   NaN           1           0  \n",
      "1  47.0      1      0   363272   7.0000   NaN           0           1  \n",
      "2  62.0      0      0   240276   9.6875   NaN           1           0  \n",
      "3  27.0      0      0   315154   8.6625   NaN           0           1  \n",
      "4  22.0      1      1  3101298  12.2875   NaN           0           1  \n"
     ]
    }
   ],
   "source": [
    "# Preview first few rows of the training dataset\n",
    "print(titanic_train.head())\n",
    "\n",
    "# Preview first few rows of the test dataset\n",
    "print(titanic_test.head())\n"
   ]
  },
  {
   "cell_type": "markdown",
   "id": "f1d44482",
   "metadata": {},
   "source": [
    "## 8. Modeling"
   ]
  },
  {
   "cell_type": "markdown",
   "id": "48826dd5",
   "metadata": {},
   "source": [
    "### 8.1 Feature Selection"
   ]
  },
  {
   "cell_type": "code",
   "execution_count": 236,
   "id": "96fa8dcb",
   "metadata": {},
   "outputs": [],
   "source": [
    "features = ['Pclass', 'Sex', 'Age', 'SibSp', 'Parch', 'Fare', 'Embarked_Q', 'Embarked_S']\n",
    "\n",
    "X = titanic_train[features]\n",
    "y = titanic_train['Survived']\n",
    "\n",
    "# Splitting the dataset into train and validation subsets\n",
    "X_train, X_val, y_train, y_val = train_test_split(X, y, test_size=0.2, random_state=42)\n"
   ]
  },
  {
   "cell_type": "markdown",
   "id": "29997011",
   "metadata": {},
   "source": [
    "### 8.2 Training the Logistic Regression Model"
   ]
  },
  {
   "cell_type": "code",
   "execution_count": 237,
   "id": "d8f17cd9",
   "metadata": {},
   "outputs": [
    {
     "name": "stdout",
     "output_type": "stream",
     "text": [
      "Validation Accuracy: 81.01%\n"
     ]
    }
   ],
   "source": [
    "# Create a logistic regression model instance\n",
    "log_reg = LogisticRegression(max_iter=500)\n",
    "\n",
    "# Fit the model to the training data\n",
    "log_reg.fit(X_train, y_train)\n",
    "\n",
    "# Predict on validation set\n",
    "y_pred_val = log_reg.predict(X_val)\n",
    "\n",
    "# Calculate accuracy on validation set\n",
    "accuracy = accuracy_score(y_val, y_pred_val)\n",
    "print(f\"Validation Accuracy: {accuracy*100:.2f}%\")\n"
   ]
  },
  {
   "cell_type": "markdown",
   "id": "4c95bb20",
   "metadata": {},
   "source": [
    "### 8.3 Training the Decision Tree Model"
   ]
  },
  {
   "cell_type": "code",
   "execution_count": 238,
   "id": "489ca058",
   "metadata": {},
   "outputs": [
    {
     "name": "stdout",
     "output_type": "stream",
     "text": [
      "Validation Accuracy (Decision Tree): 78.21%\n"
     ]
    }
   ],
   "source": [
    "# Decision Tree\n",
    "# Create a Decision Tree classifier instance\n",
    "dt_classifier = DecisionTreeClassifier()\n",
    "\n",
    "# Fit the model to the training data\n",
    "dt_classifier.fit(X_train, y_train)\n",
    "\n",
    "# Predict on validation set\n",
    "y_pred_val_dt = dt_classifier.predict(X_val)\n",
    "\n",
    "# Calculate accuracy on validation set\n",
    "accuracy_dt = accuracy_score(y_val, y_pred_val_dt)\n",
    "print(f\"Validation Accuracy (Decision Tree): {accuracy_dt*100:.2f}%\")"
   ]
  },
  {
   "cell_type": "markdown",
   "id": "55676639",
   "metadata": {},
   "source": [
    "### 8.4 Training the Random Forest Model"
   ]
  },
  {
   "cell_type": "code",
   "execution_count": 239,
   "id": "a4de3495",
   "metadata": {
    "scrolled": true
   },
   "outputs": [
    {
     "name": "stdout",
     "output_type": "stream",
     "text": [
      "Validation Accuracy (Random Forest): 82.12%\n"
     ]
    }
   ],
   "source": [
    "# Random Forest\n",
    "# Create a Random Forest classifier instance\n",
    "rf_classifier = RandomForestClassifier(n_estimators=100)\n",
    "\n",
    "# Fit the model to the training data\n",
    "rf_classifier.fit(X_train, y_train)\n",
    "\n",
    "# Predict on validation set\n",
    "y_pred_val_rf = rf_classifier.predict(X_val)\n",
    "\n",
    "# Calculate accuracy on validation set\n",
    "accuracy_rf = accuracy_score(y_val, y_pred_val_rf)\n",
    "print(f\"Validation Accuracy (Random Forest): {accuracy_rf*100:.2f}%\")"
   ]
  },
  {
   "cell_type": "markdown",
   "id": "0af48ea0",
   "metadata": {},
   "source": [
    "### 8.5 Training the Linear SVM Model"
   ]
  },
  {
   "cell_type": "code",
   "execution_count": 240,
   "id": "b9417d48",
   "metadata": {
    "scrolled": false
   },
   "outputs": [
    {
     "name": "stdout",
     "output_type": "stream",
     "text": [
      "Validation Accuracy (Linear SVM): 78.21%\n"
     ]
    }
   ],
   "source": [
    "# Linear SVM\n",
    "# Create a Linear SVM classifier instance\n",
    "svm_classifier = SVC(kernel='linear', C=1)\n",
    "\n",
    "# Fit the model to the training data\n",
    "svm_classifier.fit(X_train, y_train)\n",
    "\n",
    "# Predict on validation set\n",
    "y_pred_val_svm = svm_classifier.predict(X_val)\n",
    "\n",
    "# Calculate accuracy on validation set\n",
    "accuracy_svm = accuracy_score(y_val, y_pred_val_svm)\n",
    "print(f\"Validation Accuracy (Linear SVM): {accuracy_svm*100:.2f}%\")"
   ]
  },
  {
   "cell_type": "markdown",
   "id": "f248c0d3",
   "metadata": {},
   "source": [
    "## 9 Preparation of Predictions for Submission"
   ]
  },
  {
   "cell_type": "code",
   "execution_count": 241,
   "id": "c7d6ec40",
   "metadata": {
    "scrolled": true
   },
   "outputs": [
    {
     "name": "stderr",
     "output_type": "stream",
     "text": [
      "C:\\Users\\PC\\anaconda3\\lib\\site-packages\\sklearn\\base.py:420: UserWarning: X does not have valid feature names, but LogisticRegression was fitted with feature names\n",
      "  warnings.warn(\n"
     ]
    }
   ],
   "source": [
    "# Create an imputer instance with median filling strategy\n",
    "imputer = SimpleImputer(strategy='median')\n",
    "\n",
    "# Fit on the training data and transform the test data\n",
    "# Assuming you have something like X_train = titanic_train[features]\n",
    "imputer.fit(titanic_train[features])\n",
    "X_test_imputed = imputer.transform(X_test)\n",
    "\n",
    "# Now make predictions with the imputed data\n",
    "y_pred_test = log_reg.predict(X_test_imputed)\n",
    "\n",
    "# Create a submission DataFrame\n",
    "submission = pd.DataFrame({\n",
    "    \"PassengerId\": titanic_test[\"PassengerId\"],\n",
    "    \"Survived\": y_pred_test\n",
    "})\n",
    "\n",
    "# Save the submission DataFrame to a CSV file\n",
    "submission.to_csv('submission.csv', index=False)\n"
   ]
  },
  {
   "cell_type": "code",
   "execution_count": null,
   "id": "711e2e35",
   "metadata": {},
   "outputs": [],
   "source": []
  }
 ],
 "metadata": {
  "kernelspec": {
   "display_name": "Python 3 (ipykernel)",
   "language": "python",
   "name": "python3"
  },
  "language_info": {
   "codemirror_mode": {
    "name": "ipython",
    "version": 3
   },
   "file_extension": ".py",
   "mimetype": "text/x-python",
   "name": "python",
   "nbconvert_exporter": "python",
   "pygments_lexer": "ipython3",
   "version": "3.10.9"
  }
 },
 "nbformat": 4,
 "nbformat_minor": 5
}
